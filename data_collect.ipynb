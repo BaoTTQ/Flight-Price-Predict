{
 "cells": [
  {
   "cell_type": "code",
   "execution_count": 35,
   "metadata": {},
   "outputs": [],
   "source": [
    "import requests\n",
    "import pandas as pd\n",
    "import time\n",
    "from tqdm import tqdm\n",
    "from datetime import datetime, timedelta\n",
    "import sys"
   ]
  },
  {
   "cell_type": "code",
   "execution_count": null,
   "metadata": {},
   "outputs": [],
   "source": [
    "import os\n",
    "from dotenv import load_dotenv\n",
    "\n",
    "load_dotenv()\n",
    "\n",
    "API_KEY = os.getenv('API_KEY')\n",
    "API_SECRET = os.getenv('API_SECRET')\n"
   ]
  },
  {
   "cell_type": "code",
   "execution_count": null,
   "metadata": {},
   "outputs": [],
   "source": [
    "def get_access_token():\n",
    "    url = 'https://test.api.amadeus.com/v1/security/oauth2/token'\n",
    "    data = {\n",
    "        'grant_type': 'client_credentials',\n",
    "        'client_id': API_KEY,\n",
    "        'client_secret': API_SECRET\n",
    "    }\n",
    "    response = requests.post(url, data=data)\n",
    "    response.raise_for_status()\n",
    "    return response.json()['access_token']\n"
   ]
  },
  {
   "cell_type": "code",
   "execution_count": null,
   "metadata": {},
   "outputs": [],
   "source": [
    "def get_flight_offers(origin, destination, departure_date, access_token):\n",
    "    url = 'https://test.api.amadeus.com/v2/shopping/flight-offers'\n",
    "    headers = {'Authorization': f'Bearer {access_token}'}\n",
    "    params = {\n",
    "        'originLocationCode': origin,\n",
    "        'destinationLocationCode': destination,\n",
    "        'departureDate': departure_date,\n",
    "        'adults': '1',\n",
    "        'nonStop': 'false',\n",
    "        'currencyCode': 'VND',\n",
    "        'max': '250'\n",
    "    }\n",
    "    response = requests.get(url, headers=headers, params=params)\n",
    "    response.raise_for_status()\n",
    "    return response.json()\n"
   ]
  },
  {
   "cell_type": "code",
   "execution_count": null,
   "metadata": {},
   "outputs": [],
   "source": [
    "def process_data(data):\n",
    "    flight_offers = data.get('data', [])\n",
    "    records = {}\n",
    "    for offer in flight_offers:\n",
    "        price = offer.get('price', {}).get('total')\n",
    "        itineraries = offer.get('itineraries', [])\n",
    "        for itinerary in itineraries:\n",
    "            segments = itinerary.get('segments', [])\n",
    "            for segment in segments:\n",
    "                departure = segment.get('departure', {})\n",
    "                arrival = segment.get('arrival', {})\n",
    "                carrierCode = segment.get('carrierCode')\n",
    "                flightNumber = segment.get('number')\n",
    "                duration = segment.get('duration')\n",
    "                unique_id = (\n",
    "                    departure.get('iataCode'),\n",
    "                    departure.get('at'),\n",
    "                    arrival.get('iataCode'),\n",
    "                    arrival.get('at'),\n",
    "                    carrierCode,\n",
    "                    flightNumber\n",
    "                )\n",
    "                # Chỉ thêm chuyến bay nếu chưa tồn tại\n",
    "                if unique_id not in records:\n",
    "                    records[unique_id] = {\n",
    "                        'Departure Airport': departure.get('iataCode'),\n",
    "                        'Departure Time': departure.get('at'),\n",
    "                        'Arrival Airport': arrival.get('iataCode'),\n",
    "                        'Arrival Time': arrival.get('at'),\n",
    "                        'Carrier Code': carrierCode,\n",
    "                        'Flight Number': flightNumber,\n",
    "                        'Price (VND)': price,\n",
    "                        'Duration': duration,\n",
    "                    }\n",
    "    return pd.DataFrame.from_dict(records, orient='index')\n"
   ]
  },
  {
   "cell_type": "code",
   "execution_count": 36,
   "metadata": {},
   "outputs": [
    {
     "ename": "NameError",
     "evalue": "name 'total_pairs' is not defined",
     "output_type": "error",
     "traceback": [
      "\u001b[1;31m---------------------------------------------------------------------------\u001b[0m",
      "\u001b[1;31mNameError\u001b[0m                                 Traceback (most recent call last)",
      "Cell \u001b[1;32mIn[36], line 13\u001b[0m\n\u001b[0;32m     10\u001b[0m df \u001b[38;5;241m=\u001b[39m pd\u001b[38;5;241m.\u001b[39mDataFrame()\n\u001b[0;32m     12\u001b[0m \u001b[38;5;66;03m# Lấy dữ liệu từ các sân bay với thanh tiến trình chi tiết\u001b[39;00m\n\u001b[1;32m---> 13\u001b[0m \u001b[38;5;28;01mwith\u001b[39;00m tqdm(total\u001b[38;5;241m=\u001b[39m\u001b[43mtotal_pairs\u001b[49m, desc\u001b[38;5;241m=\u001b[39m\u001b[38;5;124m'\u001b[39m\u001b[38;5;124mĐang lấy dữ liệu\u001b[39m\u001b[38;5;124m'\u001b[39m) \u001b[38;5;28;01mas\u001b[39;00m pbar:\n\u001b[0;32m     14\u001b[0m     \u001b[38;5;28;01mfor\u001b[39;00m origin \u001b[38;5;129;01min\u001b[39;00m airports:\n\u001b[0;32m     15\u001b[0m         \u001b[38;5;28;01mfor\u001b[39;00m destination \u001b[38;5;129;01min\u001b[39;00m airports:\n",
      "\u001b[1;31mNameError\u001b[0m: name 'total_pairs' is not defined"
     ]
    }
   ],
   "source": [
    "# Lấy Access Token\n",
    "access_token = get_access_token()\n",
    "\n",
    "# Danh sách các sân bay\n",
    "airports = ['SGN', 'HAN', 'DAD', 'HUI', 'CXR', 'VCA', 'HPH', 'VII', 'BMV', 'DLI']\n",
    "\n",
    "# Tạo ngày khởi hành\n",
    "tomorrow = datetime.now() + timedelta(days=1)\n",
    "departure_date = tomorrow.strftime('%Y-%m-%d')\n",
    "df = pd.DataFrame()\n",
    "\n",
    "total_pairs = len(airports) * (len(airports) - 1)\n",
    "\n",
    "# Lấy dữ liệu từ các sân bay với thanh tiến trình chi tiết\n",
    "with tqdm(total=total_pairs, desc='Đang lấy dữ liệu') as pbar:\n",
    "    for origin in airports:\n",
    "        for destination in airports:\n",
    "            if origin != destination:\n",
    "                # Xóa dòng trước đó và in ra dòng mới\n",
    "                sys.stdout.write(f\"\\rLấy chuyến bay từ {origin} đến {destination}\")\n",
    "                sys.stdout.flush()\n",
    "                \n",
    "                try:\n",
    "                    data = get_flight_offers(origin, destination, departure_date, access_token)\n",
    "                    flights_df = process_data(data)\n",
    "                    df = pd.concat([df, flights_df], ignore_index=True)\n",
    "                    time.sleep(1)  # Nghỉ 1 giây giữa các yêu cầu\n",
    "                except requests.exceptions.HTTPError as http_err:\n",
    "                    sys.stdout.write(f\"\\rLỗi HTTP từ {origin} đến {destination}: {http_err}\\n\")\n",
    "                except Exception as e:\n",
    "                    sys.stdout.write(f\"\\rLỗi từ {origin} đến {destination}: {e}\\n\")\n",
    "                \n",
    "                # Cập nhật thanh tiến trình\n",
    "                pbar.update(1)\n",
    "\n",
    "# Xóa dòng cuối cùng sau khi hoàn thành\n",
    "sys.stdout.write(\"\\nHoàn thành!\\n\")\n",
    "\n",
    "\n"
   ]
  },
  {
   "cell_type": "code",
   "execution_count": null,
   "metadata": {},
   "outputs": [],
   "source": [
    "# Loại bỏ các bản ghi trùng lặp\n",
    "df.drop_duplicates(subset=[\n",
    "    'Departure Airport', 'Departure Time', 'Arrival Airport', 'Arrival Time',\n",
    "    'Carrier Code', 'Flight Number'], inplace=True)\n",
    "\n",
    "# Chuyển đổi thời gian sang định dạng datetime\n",
    "df['Departure Time'] = pd.to_datetime(df['Departure Time'])\n",
    "df['Arrival Time'] = pd.to_datetime(df['Arrival Time'])\n",
    "\n",
    "# Reset lại index của DataFrame\n",
    "df.reset_index(drop=True, inplace=True)\n",
    "\n",
    "print(df.shape)\n",
    "df.head()\n"
   ]
  },
  {
   "cell_type": "code",
   "execution_count": null,
   "metadata": {},
   "outputs": [],
   "source": [
    "df.to_csv(f'data/{departure_date}_full_data.csv', index=False)"
   ]
  }
 ],
 "metadata": {
  "kernelspec": {
   "display_name": "Python 3",
   "language": "python",
   "name": "python3"
  },
  "language_info": {
   "codemirror_mode": {
    "name": "ipython",
    "version": 3
   },
   "file_extension": ".py",
   "mimetype": "text/x-python",
   "name": "python",
   "nbconvert_exporter": "python",
   "pygments_lexer": "ipython3",
   "version": "3.12.7"
  }
 },
 "nbformat": 4,
 "nbformat_minor": 2
}
